{
  "nbformat": 4,
  "nbformat_minor": 0,
  "metadata": {
    "colab": {
      "name": "Untitled3.ipynb",
      "provenance": [],
      "authorship_tag": "ABX9TyMolOQm8y/P0lXST4xR8GQE",
      "include_colab_link": true
    },
    "kernelspec": {
      "name": "python3",
      "display_name": "Python 3"
    },
    "language_info": {
      "name": "python"
    }
  },
  "cells": [
    {
      "cell_type": "markdown",
      "metadata": {
        "id": "view-in-github",
        "colab_type": "text"
      },
      "source": [
        "<a href=\"https://colab.research.google.com/github/Cryptonal/Python-Script-for-scrapping-reddit-data/blob/main/Script.ipynb\" target=\"_parent\"><img src=\"https://colab.research.google.com/assets/colab-badge.svg\" alt=\"Open In Colab\"/></a>"
      ]
    },
    {
      "cell_type": "markdown",
      "metadata": {
        "id": "Ucs-uUvvAGa7"
      },
      "source": [
        "Imports"
      ]
    },
    {
      "cell_type": "code",
      "metadata": {
        "id": "x1sWjao7AFeN"
      },
      "source": [
        "#!pip3 install praw\n",
        "import praw\n",
        "import requests"
      ],
      "execution_count": null,
      "outputs": []
    },
    {
      "cell_type": "code",
      "metadata": {
        "id": "kV7PIbo-AUco"
      },
      "source": [
        "CLIENT_ID = '5qGDydh7PPsdDQ'\n",
        "SECRET_TOKEN = 'hg0imocgHYncQmFp94Ki1GW6BGiN3w'\n",
        "# note that CLIENT_ID refers to 'personal use script' and SECRET_TOKEN to 'token'\n",
        "reddit = praw.Reddit(\n",
        "    client_id=CLIENT_ID,\n",
        "    client_secret=SECRET_TOKEN ,\n",
        "    user_agent=\"RedDataScrapper\",\n",
        "    username=\"HammadTahi\",\n",
        ")\n",
        "\n"
      ],
      "execution_count": null,
      "outputs": []
    },
    {
      "cell_type": "code",
      "metadata": {
        "colab": {
          "base_uri": "https://localhost:8080/"
        },
        "id": "bE_wMq78AW-b",
        "outputId": "d407d62b-2995-4203-8805-3ce12f6e5edd"
      },
      "source": [
        "print(reddit.user.me())"
      ],
      "execution_count": null,
      "outputs": [
        {
          "output_type": "stream",
          "text": [
            "None\n"
          ],
          "name": "stdout"
        },
        {
          "output_type": "stream",
          "text": [
            "/usr/local/lib/python3.7/dist-packages/ipykernel_launcher.py:1: DeprecationWarning: The `None` return value is deprecated, and will raise a `ReadOnlyException` beginning with PRAW 8. See documentation for forward compatibility options.\n",
            "  \"\"\"Entry point for launching an IPython kernel.\n"
          ],
          "name": "stderr"
        }
      ]
    },
    {
      "cell_type": "code",
      "metadata": {
        "colab": {
          "base_uri": "https://localhost:8080/"
        },
        "id": "ZmTmO5UBMN33",
        "outputId": "a4775e00-d99d-43f9-ed4b-8cb6608366c1"
      },
      "source": [
        "subs = reddit.subreddit('vaccine').hot(limit=100)\n",
        "\n",
        "for submissions in subs:\n",
        "  print(submissions.title)"
      ],
      "execution_count": null,
      "outputs": [
        {
          "output_type": "stream",
          "text": [
            "It appears that you are using PRAW in an asynchronous environment.\n",
            "It is strongly recommended to use Async PRAW: https://asyncpraw.readthedocs.io.\n",
            "See https://praw.readthedocs.io/en/latest/getting_started/multiple_instances.html#discord-bots-and-asynchronous-environments for more info.\n",
            "\n"
          ],
          "name": "stderr"
        },
        {
          "output_type": "stream",
          "text": [
            "UAE gives nod to emergency registration of Moderna's vaccine\n",
            "It's the UK, but it sure looks like it shows vaccines work\n",
            "Sore arm 3 weeks after Vaccine?\n",
            "What should I do?\n",
            "Had a few cans of alcohol free beer day after jab\n",
            "Period\n",
            "Covid-19 cases: India hits 400,000 deaths, Mumbai hospital’s vaccine scam unearthed\n",
            "Vaccine\n",
            "Study recruitment for vaccine opinions. You can get $15 or more in participating in our online challenge. See criteria in post.\n",
            "Fear on missing out on a vaccine. Misvaccinophobia\n",
            "Want\n",
            "Vaccines dont work for my family?\n",
            "Covaxin Vs Covishield Vaccine - Which is Better\n",
            "Sore throat after second Moderna shot\n",
            "Whole arm aching, not only the injection site after Pfizer shot. Is this normal? Am on the 2nd day of my first dose\n",
            "Having a hard time trusting J&J with a vaccine you know cuz all the lawsuits for poisoning their consumers!\n",
            "Anyone else experiencing Covid arm?\n",
            "Heart burn after taking my second dose of Aztrazenica.\n",
            "Johnson & Johnson is no ok for people sick with asthma? Is true or gossip?\n",
            "Did anyone with neuromuscular disease at the age of 16 take the fizer vaccine if so please let me know if any side effect appeared or allergic or any infection thanks to be specific my disease is Congenital myasthenia syndrome\n",
            "Getting my shot today, very nervous\n",
            "J&J vs mRNA\n",
            "What happens to vaccinated cells with the J&J/AstraZeneca\n",
            "2nd Dose\n",
            "I got my shot today in the morning. It's 12 hrs after it. For the past 2.5-3 hours my fever has been rising from 100 to 101.5 to 102 to 102.4 now. It doesn't seem to go down. Should I take a Tylenol before I go to sleep? As I'm worried the fever might keep rising.\n",
            "Support group for people w/ anti-vax family\n",
            "I need to have a conversation with Dr or someone who is very well educated on vaccine preferably a doctor\n",
            "LA vaccine phone call\n",
            "Pick your poison\n",
            "What happens if you get three or more COVID vax shots?\n",
            "Getting the vaccine\n",
            "Has anyone had Wierd side effects after covid shot like a month or two after?\n",
            "Is it OK to change COVID-19 vaccine brands with the 2nd shot?\n",
            "No second dose after 3 months - sputnik\n",
            "Vietnam to prioritize Chinese nationals in Covid-19 vaccination following a complaint from China\n",
            "I dont think I was Injected correctly\n",
            "I hear all the awful side effects on the the internet. But I haven't heard of one single side effect other than a slightly sore arm in over 300 friends, family and customers. Am I in some kind of a bubble of invulnerability? Are the people with the bad symptoms somehow doing something different?\n",
            "Bonus immunity after infection in vaccinated people?\n",
            "Anyone worried about flu season?\n",
            "Vaccine question\n",
            "Shot in the balls?\n",
            "Confused with vaccine\n",
            "conservative parents and covif vaccine dont mix\n",
            "https://www.webmd.com/lung/news/20210625/israel-reinstates-indoor-face-mask-rule-delta-variant\n",
            "An unexplainable positive side effect of Pfizer Vaccine\n",
            "whats the difference between the first and second dose of the astrazeneca vaccine?\n",
            "https://www.huffpost.com/entry/covid-19-delta-infecting-vaccinated-in-israel_n_60d6661ce4b066ff5aba8faa\n",
            "Mental Troubles After Vaccine\n",
            "Aunty during vaccination\n",
            "Is it safe to be vaccinated if you have allergies to oral medications?\n",
            "Can i spread my vaccine to other people?\n",
            "On this day, the Supreme Court rules on vaccines and public health\n",
            "How vaccine work\n",
            "Burning smell after receiving the Johnson and Johnson vaccine.\n",
            "Biden drops AstraZeneca vaccine from latest donation\n",
            "Red pin pricks?\n",
            "How to be informed about vaccine\n",
            "Vaccine for tourists, is insurance neccesary?\n",
            "Interchangeable vaccines?\n",
            "AstraZeneca's magnetic effects (?)\n",
            "Ladies who had Pfizer- Please respond (changes in menstrual cycle)\n",
            "Philippine President threatens to jail those who refuse Covid-19 vaccine\n",
            "Has anyone feel empty after the vaccine shot\n",
            "I got vaccinated last week! (MY PFIZER EXPERIENCE)\n",
            "Italy halts the use of AstraZeneca’s vaccine in those under 60, and other news from around the world.\n",
            "Hey guys so i got my first vaccine pfizer and where i currently live they don’t have pfizer for some reason, They said since moderna is also similair they are giving moderna, should i get it done or should i wait for a couple of weeks? My appointment was originally for pfizer and now this news\n",
            "The vaccine doesn't work as supposed and we didn't get told about it\n",
            "Tokyo 2020 to decide on allowing fans - UK NEWS BRIEFING\n",
            "India’s Vaccine Makers Are Pandemic Profiteers, Not Humanitarians\n",
            "Nervous about getting vaccinated due to health problems\n",
            "The Inventor of MRNA vaccine technology discussing toxic spike proteins.\n",
            "Can the spike protein produced by covid MRNA vaccination seed protein aggregation in the brain? Need reassurance (papers linked in post)\n",
            "Tomorrow I’ll get vaccinated, but I'm afraid\n",
            "[Please delete if it is off the limits of this community]\n",
            "Vaccine mix and match\n",
            "Got my 1st Pfizer vaccine\n",
            "Being Vaccinated Doesn’t Mean You Must Go Maskless. Here’s Why.\n",
            "Covaxin Vs Covishield- which is better?\n",
            "Swollen lymph knot 2 weeks after Moderna\n",
            "Not an antivaxxer.\n",
            "AstraZeneca first dose Pfizer second dose reactions?\n",
            "Punched in my vaccine shoulder\n",
            "Nervous about getting the Covid-19 shot.\n",
            "Vaccine dream\n",
            "Covid-19: Novavax Says Vaccine 90% Effective\n",
            "I'm taking my first Vaccine shot Wednesday\n",
            "Reggae artist Burning Spear taking the vaccine\n",
            "Covid19 Vaccine and LSD\n",
            "Judge tosses lawsuit against Houston Methodist over staff vaccine mandate\n",
            "J&J vaccine after one dose of Moderna 2+ months ago?\n",
            "Looking for some help with my anxiety about getting the vaccine.\n",
            "Ohio 248 Vaccine Hearing Dr Tenpenny\n",
            "Christian Erickson collapsing with no one around him needs to be investigate. These players all just took the Vaccine in order to play. A vaccine notorious for causing heart and vascular issues. https://twitter.com/tarunk17/status/1403763947619045377?s=21\n",
            "Trying to decide which vaccine for my second dose\n",
            "Yankee stadium vaccine and baseball!?\n",
            "An amazing breakdown of Andrew Wakefield inventing an issue for profit and the lengths he went to manipulate people into believing it...including manipulating parents into allowing him to perform highly invasive and stressful tests on children then falsified results afterwards (aka child abuse)\n",
            "Biden announces US to donate 500M vaccine doses in show of American leadership\n",
            "Side Effects= Doctor visit\n",
            "This is a Vaccine side effects reporting website. We are gathering data about side effects of different vaccines. please contribute to the cause and help us report side effects of different vaccines. Simultaneously we are crawling twitter and saving the side effects from that as well\n",
            "I have a severe fear of needles and just got my first dose of the Pfizer covid vaccine!\n"
          ],
          "name": "stdout"
        }
      ]
    },
    {
      "cell_type": "code",
      "metadata": {
        "id": "oJCfzBBQNAZS"
      },
      "source": [
        ""
      ],
      "execution_count": null,
      "outputs": []
    }
  ]
}